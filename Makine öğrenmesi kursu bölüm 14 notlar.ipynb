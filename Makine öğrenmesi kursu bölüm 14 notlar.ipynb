{
 "cells": [
  {
   "cell_type": "markdown",
   "id": "1f432e53",
   "metadata": {},
   "source": [
    "Yapay Sinir Ağları (YSA)\n",
    "Artificial Neural Network (ANN)\n",
    "\n",
    "derin öğrenmenin temelini oluşturuyor \n",
    "    * Sinir bilim ve bilgisayar bilim \n",
    "    * Nöron (Neuron)\n",
    "    * Sinapsis (Synapsis)\n",
    "    * YSA Çalışma mantığı \n",
    "   \n",
    "\n"
   ]
  },
  {
   "cell_type": "markdown",
   "id": "db1021e8",
   "metadata": {},
   "source": [
    "# Nöron\n",
    "eşik fonksiyonu = threshold function\n",
    "nöronda aktivasyon fonksiyonunun önemli etkileri var \n",
    "aktivasyon kodu nöronun içinde bulunur nörana girdiler olur ve aktivasyon foksiyonuna göre bir çıktısı veya çıktıları olabilir "
   ]
  },
  {
   "cell_type": "markdown",
   "id": "0cb74b0b",
   "metadata": {},
   "source": [
    "# Yapay Sinir Ağlarında Katman (Layer) Kavramı\n",
    "katmanlar nöronlardan oluşuyor \n",
    "giriş katmanı input layer\n",
    "gizli katman hidden layer\n",
    "çıkış katmanı output layer\n",
    "gizli katmanda ekstra katman oluşturulabiliyor (nörondan bahsedilmiyor burada)\n",
    "\n"
   ]
  },
  {
   "cell_type": "markdown",
   "id": "40c920fe",
   "metadata": {},
   "source": [
    "Linearly seperable = and or \n",
    "exor is not linearly seperable\n"
   ]
  },
  {
   "cell_type": "markdown",
   "id": "2fb9fe3a",
   "metadata": {},
   "source": [
    "# Grandyan Alçalış \n",
    "Gradient Descendent\n",
    "optimum noktayı bulmak için kullanılan yöntemlerdendir\n",
    "\n",
    "# Stokastik Gradyan Alçalış \n",
    "Stochastic Gradient Descendent\n",
    "optimum noktayı bulmak için kullanılan bir başka yöntemdir. Grandyan alçalışın daha gelişmiş halidir.\n"
   ]
  },
  {
   "cell_type": "markdown",
   "id": "ef4cac8d",
   "metadata": {},
   "source": [
    "* stokastik yaklaşımda her satır sonrasında geri besleme yapılıyor\n",
    "* Batch (yığın) yaklaşımında tüm veri işleme tutulduktan sonra geri dönüş yapıyor \n",
    "* mini batch (mini yığın) yaklaşımı stokastik ve batch yönteminin arasıdır verilerin boyutlandırılması ve bu boyutlardan sonra geri besleme yapması yaklaşımıdır ayrıca mini yığın boyutu değiştirilebilir"
   ]
  },
  {
   "cell_type": "markdown",
   "id": "3222c284",
   "metadata": {},
   "source": [
    "# YSA Öğrenme Algoritmaları \n",
    "    * Geri Yayılım (back propagation): hatalar geri yönde yayılır (çıkıştan girişe doğru)\n",
    "    * İleri Yayılım (forward propagation): Ağırlıklar ileri yönlü güncellenir (girişten çıkışa doğru)"
   ]
  },
  {
   "cell_type": "markdown",
   "id": "59383043",
   "metadata": {},
   "source": [
    "# Backward Propagation \n",
    "    * Adım 1: Bütün ağı rasgele sayılarla (sıfıra) yakın ama sıfırdan farklı) ilkendir.\n",
    "    * Adım 2: Veri kümesinden ilk satır (her öznitelik bir nöron olacak şekilde) giriş katmanından verilir.\n",
    "    * Adım 3: İleri yönlü yayılım yapılarak, YSA istenene sonucu verene kadar güncellenir.\n",
    "    * Adım 4: Gerçek ve çıktı arasında ki fark alınarak hata (error) hesaplanır.\n",
    "    * Adım 5:Geri yayılım yapılarak, her sinapsis üzerinde ki ağırlık, hatadan sorumlu olduğu miktarda değiştirilir. Değiştirilme miktarı ayrıca öğrenme oranına da bağlıdır.\n",
    "    * Adım 6: Adım 1-5 arasındaki adımları istenen sonucu elde edene kadar güncelle (Takviyeli Öğrenme (Reinforced Learning)) veya eldeki bütün verileri ilgili ağda çalıştırdıktan sonra bir seferde güncelleme yap (yığın öğrenme(batch learning))\n",
    "    * Adım 7: Bütün eğitim kümesi çalıştırıldıktan sonra bir çağ/tur (epoch) tamamlanmış olur. Aynı veri kümeleri kullanılarak çağ/tur tekrarları yapılır.\n",
    "    \n",
    "    "
   ]
  },
  {
   "cell_type": "markdown",
   "id": "cf604a0b",
   "metadata": {},
   "source": [
    "+ bias değeri \n",
    "+ learning rate: belli bir öğrenme adımının hızlı atılacağı \n",
    "+ tur(epoch): kaç tur atacağının sayısı her turda tüm verilerin üzerinden geçiyor bunun belli bir orandan sonra olumsuz etkisi olabilir bunun için bir durma noktası belirlememiz gerekmektedir çok yüksek bir değer verirsek öğrenmesine rağmen boşuna tur dönmesi demek olavak az verirsekte öğrenme tamamlanmadan sonlanması demek oluyor\n"
   ]
  },
  {
   "cell_type": "markdown",
   "id": "d4ba8892",
   "metadata": {},
   "source": [
    "#  Derin Öğrenme Kütüphanelerinden Bazıları \n",
    "    + PyTorch\n",
    "    + TensorFlow\n",
    "    + Caffe\n",
    "    + Keras\n",
    "    + DeepLearning4J"
   ]
  },
  {
   "cell_type": "code",
   "execution_count": 1,
   "id": "b4121f8b",
   "metadata": {},
   "outputs": [
    {
     "data": {
      "text/plain": [
       "'import tensorflow as tf\\nhello = tf.constant(\"hello,tensorflow\")\\nsess=tf.Session()\\nprint(sess.run(hello))'"
      ]
     },
     "execution_count": 1,
     "metadata": {},
     "output_type": "execute_result"
    }
   ],
   "source": [
    "'''import tensorflow as tf\n",
    "hello = tf.constant(\"hello,tensorflow\")\n",
    "sess=tf.Session()\n",
    "print(sess.run(hello))'''"
   ]
  },
  {
   "cell_type": "code",
   "execution_count": 2,
   "id": "80509565",
   "metadata": {},
   "outputs": [
    {
     "data": {
      "text/html": [
       "<div>\n",
       "<style scoped>\n",
       "    .dataframe tbody tr th:only-of-type {\n",
       "        vertical-align: middle;\n",
       "    }\n",
       "\n",
       "    .dataframe tbody tr th {\n",
       "        vertical-align: top;\n",
       "    }\n",
       "\n",
       "    .dataframe thead th {\n",
       "        text-align: right;\n",
       "    }\n",
       "</style>\n",
       "<table border=\"1\" class=\"dataframe\">\n",
       "  <thead>\n",
       "    <tr style=\"text-align: right;\">\n",
       "      <th></th>\n",
       "      <th>RowNumber</th>\n",
       "      <th>CustomerId</th>\n",
       "      <th>Surname</th>\n",
       "      <th>CreditScore</th>\n",
       "      <th>Geography</th>\n",
       "      <th>Gender</th>\n",
       "      <th>Age</th>\n",
       "      <th>Tenure</th>\n",
       "      <th>Balance</th>\n",
       "      <th>NumOfProducts</th>\n",
       "      <th>HasCrCard</th>\n",
       "      <th>IsActiveMember</th>\n",
       "      <th>EstimatedSalary</th>\n",
       "      <th>Exited</th>\n",
       "    </tr>\n",
       "  </thead>\n",
       "  <tbody>\n",
       "    <tr>\n",
       "      <th>0</th>\n",
       "      <td>1</td>\n",
       "      <td>15634602</td>\n",
       "      <td>Hargrave</td>\n",
       "      <td>619</td>\n",
       "      <td>France</td>\n",
       "      <td>Female</td>\n",
       "      <td>42</td>\n",
       "      <td>2</td>\n",
       "      <td>0.00</td>\n",
       "      <td>1</td>\n",
       "      <td>1</td>\n",
       "      <td>1</td>\n",
       "      <td>101348.88</td>\n",
       "      <td>1</td>\n",
       "    </tr>\n",
       "    <tr>\n",
       "      <th>1</th>\n",
       "      <td>2</td>\n",
       "      <td>15647311</td>\n",
       "      <td>Hill</td>\n",
       "      <td>608</td>\n",
       "      <td>Spain</td>\n",
       "      <td>Female</td>\n",
       "      <td>41</td>\n",
       "      <td>1</td>\n",
       "      <td>83807.86</td>\n",
       "      <td>1</td>\n",
       "      <td>0</td>\n",
       "      <td>1</td>\n",
       "      <td>112542.58</td>\n",
       "      <td>0</td>\n",
       "    </tr>\n",
       "    <tr>\n",
       "      <th>2</th>\n",
       "      <td>3</td>\n",
       "      <td>15619304</td>\n",
       "      <td>Onio</td>\n",
       "      <td>502</td>\n",
       "      <td>France</td>\n",
       "      <td>Female</td>\n",
       "      <td>42</td>\n",
       "      <td>8</td>\n",
       "      <td>159660.80</td>\n",
       "      <td>3</td>\n",
       "      <td>1</td>\n",
       "      <td>0</td>\n",
       "      <td>113931.57</td>\n",
       "      <td>1</td>\n",
       "    </tr>\n",
       "    <tr>\n",
       "      <th>3</th>\n",
       "      <td>4</td>\n",
       "      <td>15701354</td>\n",
       "      <td>Boni</td>\n",
       "      <td>699</td>\n",
       "      <td>France</td>\n",
       "      <td>Female</td>\n",
       "      <td>39</td>\n",
       "      <td>1</td>\n",
       "      <td>0.00</td>\n",
       "      <td>2</td>\n",
       "      <td>0</td>\n",
       "      <td>0</td>\n",
       "      <td>93826.63</td>\n",
       "      <td>0</td>\n",
       "    </tr>\n",
       "    <tr>\n",
       "      <th>4</th>\n",
       "      <td>5</td>\n",
       "      <td>15737888</td>\n",
       "      <td>Mitchell</td>\n",
       "      <td>850</td>\n",
       "      <td>Spain</td>\n",
       "      <td>Female</td>\n",
       "      <td>43</td>\n",
       "      <td>2</td>\n",
       "      <td>125510.82</td>\n",
       "      <td>1</td>\n",
       "      <td>1</td>\n",
       "      <td>1</td>\n",
       "      <td>79084.10</td>\n",
       "      <td>0</td>\n",
       "    </tr>\n",
       "  </tbody>\n",
       "</table>\n",
       "</div>"
      ],
      "text/plain": [
       "   RowNumber  CustomerId   Surname  CreditScore Geography  Gender  Age  \\\n",
       "0          1    15634602  Hargrave          619    France  Female   42   \n",
       "1          2    15647311      Hill          608     Spain  Female   41   \n",
       "2          3    15619304      Onio          502    France  Female   42   \n",
       "3          4    15701354      Boni          699    France  Female   39   \n",
       "4          5    15737888  Mitchell          850     Spain  Female   43   \n",
       "\n",
       "   Tenure    Balance  NumOfProducts  HasCrCard  IsActiveMember  \\\n",
       "0       2       0.00              1          1               1   \n",
       "1       1   83807.86              1          0               1   \n",
       "2       8  159660.80              3          1               0   \n",
       "3       1       0.00              2          0               0   \n",
       "4       2  125510.82              1          1               1   \n",
       "\n",
       "   EstimatedSalary  Exited  \n",
       "0        101348.88       1  \n",
       "1        112542.58       0  \n",
       "2        113931.57       1  \n",
       "3         93826.63       0  \n",
       "4         79084.10       0  "
      ]
     },
     "execution_count": 2,
     "metadata": {},
     "output_type": "execute_result"
    }
   ],
   "source": [
    "import numpy as np\n",
    "import matplotlib.pyplot as plt\n",
    "import pandas as pd\n",
    "veriler = pd.read_csv(\"Churn_Modelling.csv\")\n",
    "veriler.head()"
   ]
  },
  {
   "cell_type": "code",
   "execution_count": 3,
   "id": "364c1f11",
   "metadata": {},
   "outputs": [],
   "source": [
    "X = veriler.iloc[:,3:13].values\n",
    "Y = veriler.iloc[:,13].values\n",
    "\n",
    "from sklearn import preprocessing\n",
    "\n",
    "le = preprocessing.LabelEncoder()\n",
    "X[:,1] = le.fit_transform(X[:,1])\n",
    "\n",
    "le2 = preprocessing.LabelEncoder()\n",
    "X[:,2] = le2.fit_transform(X[:,2])\n",
    "\n",
    "from sklearn.preprocessing import OneHotEncoder\n",
    "from sklearn.compose import ColumnTransformer\n",
    "\n",
    "ohe = ColumnTransformer([(\"ohe\", \n",
    "                         OneHotEncoder(dtype = float), \n",
    "                         [1])], remainder = \"passthrough\")\n",
    "\n",
    "X = ohe.fit_transform(X)\n",
    "X = X[:,1:]"
   ]
  },
  {
   "cell_type": "code",
   "execution_count": 4,
   "id": "eb16bf0f",
   "metadata": {},
   "outputs": [],
   "source": [
    "from sklearn.model_selection import train_test_split\n",
    "x_train, x_test, y_train, y_test = train_test_split(X, Y, test_size = 0.33, random_state = 0)\n",
    "\n",
    "from sklearn.preprocessing import StandardScaler \n",
    "sc = StandardScaler()\n",
    "\n",
    "X_train = sc.fit_transform(x_train)\n",
    "X_test = sc.fit_transform(x_test)"
   ]
  }
 ],
 "metadata": {
  "kernelspec": {
   "display_name": "Python 3 (ipykernel)",
   "language": "python",
   "name": "python3"
  },
  "language_info": {
   "codemirror_mode": {
    "name": "ipython",
    "version": 3
   },
   "file_extension": ".py",
   "mimetype": "text/x-python",
   "name": "python",
   "nbconvert_exporter": "python",
   "pygments_lexer": "ipython3",
   "version": "3.11.1"
  }
 },
 "nbformat": 4,
 "nbformat_minor": 5
}
