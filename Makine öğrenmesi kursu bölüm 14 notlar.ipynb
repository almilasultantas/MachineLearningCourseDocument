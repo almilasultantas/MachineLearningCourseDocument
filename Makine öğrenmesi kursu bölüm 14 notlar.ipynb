{
 "cells": [
  {
   "cell_type": "markdown",
   "id": "1f432e53",
   "metadata": {},
   "source": [
    "Yapay Sinir Ağları (YSA)\n",
    "Artificial Neural Network (ANN)\n",
    "\n",
    "derin öğrenmenin temelini oluşturuyor \n",
    "    * Sinir bilim ve bilgisayar bilim \n",
    "    * Nöron (Neuron)\n",
    "    * Sinapsis (Synapsis)\n",
    "    * YSA Çalışma mantığı \n",
    "   \n",
    "\n"
   ]
  },
  {
   "cell_type": "markdown",
   "id": "db1021e8",
   "metadata": {},
   "source": [
    "# Nöron\n",
    "eşik fonksiyonu = threshold function\n",
    "nöronda aktivasyon fonksiyonunun önemli etkileri var \n",
    "aktivasyon kodu nöronun içinde bulunur nörana girdiler olur ve aktivasyon foksiyonuna göre bir çıktısı veya çıktıları olabilir "
   ]
  },
  {
   "cell_type": "markdown",
   "id": "0cb74b0b",
   "metadata": {},
   "source": [
    "# Yapay Sinir Ağlarında Katman (Layer) Kavramı\n",
    "katmanlar nöronlardan oluşuyor \n",
    "giriş katmanı input layer\n",
    "gizli katman hidden layer\n",
    "çıkış katmanı output layer\n",
    "gizli katmanda ekstra katman oluşturulabiliyor (nörondan bahsedilmiyor burada)\n",
    "\n"
   ]
  },
  {
   "cell_type": "markdown",
   "id": "40c920fe",
   "metadata": {},
   "source": [
    "Linearly seperable = and or \n",
    "exor is not linearly seperable\n"
   ]
  },
  {
   "cell_type": "markdown",
   "id": "2fb9fe3a",
   "metadata": {},
   "source": [
    "# Grandyan Alçalış \n",
    "Gradient Descendent\n",
    "optimum noktayı bulmak için kullanılan yöntemlerdendir\n",
    "\n",
    "# Stokastik Gradyan Alçalış \n",
    "Stochastic Gradient Descendent\n",
    "optimum noktayı bulmak için kullanılan bir başka yöntemdir. Grandyan alçalışın daha gelişmiş halidir.\n"
   ]
  },
  {
   "cell_type": "markdown",
   "id": "ef4cac8d",
   "metadata": {},
   "source": [
    "* stokastik yaklaşımda her satır sonrasında geri besleme yapılıyor\n",
    "* Batch (yığın) yaklaşımında tüm veri işleme tutulduktan sonra geri dönüş yapıyor \n",
    "* mini batch (mini yığın) yaklaşımı stokastik ve batch yönteminin arasıdır verilerin boyutlandırılması ve bu boyutlardan sonra geri besleme yapması yaklaşımıdır ayrıca mini yığın boyutu değiştirilebilir"
   ]
  },
  {
   "cell_type": "markdown",
   "id": "3222c284",
   "metadata": {},
   "source": [
    "# YSA Öğrenme Algoritmaları \n",
    "    * Geri Yayılım (back propagation): hatalar geri yönde yayılır (çıkıştan girişe doğru)\n",
    "    * İleri Yayılım (forward propagation): Ağırlıklar ileri yönlü güncellenir (girişten çıkışa doğru)"
   ]
  },
  {
   "cell_type": "markdown",
   "id": "59383043",
   "metadata": {},
   "source": [
    "# Backward Propagation \n",
    "    * Adım 1: Bütün ağı rasgele sayılarla (sıfıra) yakın ama sıfırdan farklı) ilkendir.\n",
    "    * Adım 2: Veri kümesinden ilk satır (her öznitelik bir nöron olacak şekilde) giriş katmanından verilir.\n",
    "    * Adım 3: İleri yönlü yayılım yapılarak, YSA istenene sonucu verene kadar güncellenir.\n",
    "    * Adım 4: Gerçek ve çıktı arasında ki fark alınarak hata (error) hesaplanır.\n",
    "    * Adım 5:Geri yayılım yapılarak, her sinapsis üzerinde ki ağırlık, hatadan sorumlu olduğu miktarda değiştirilir. Değiştirilme miktarı ayrıca öğrenme oranına da bağlıdır.\n",
    "    * Adım 6: Adım 1-5 arasındaki adımları istenen sonucu elde edene kadar güncelle (Takviyeli Öğrenme (Reinforced Learning)) veya eldeki bütün verileri ilgili ağda çalıştırdıktan sonra bir seferde güncelleme yap (yığın öğrenme(batch learning))\n",
    "    * Adım 7: Bütün eğitim kümesi çalıştırıldıktan sonra bir çağ/tur (epoch) tamamlanmış olur. Aynı veri kümeleri kullanılarak çağ/tur tekrarları yapılır.\n",
    "    \n",
    "    "
   ]
  },
  {
   "cell_type": "markdown",
   "id": "cf604a0b",
   "metadata": {},
   "source": [
    "+ bias değeri \n",
    "+ learning rate: belli bir öğrenme adımının hızlı atılacağı \n",
    "+ tur(epoch): kaç tur atacağının sayısı her turda tüm verilerin üzerinden geçiyor bunun belli bir orandan sonra olumsuz etkisi olabilir bunun için bir durma noktası belirlememiz gerekmektedir çok yüksek bir değer verirsek öğrenmesine rağmen boşuna tur dönmesi demek olavak az verirsekte öğrenme tamamlanmadan sonlanması demek oluyor\n"
   ]
  },
  {
   "cell_type": "markdown",
   "id": "d4ba8892",
   "metadata": {},
   "source": [
    "#  Derin Öğrenme Kütüphanelerinden Bazıları \n",
    "    + PyTorch\n",
    "    + TensorFlow\n",
    "    + Caffe\n",
    "    + Keras\n",
    "    + DeepLearning4J"
   ]
  },
  {
   "cell_type": "code",
   "execution_count": 1,
   "id": "b4121f8b",
   "metadata": {},
   "outputs": [
    {
     "ename": "AttributeError",
     "evalue": "module 'tensorflow' has no attribute 'Session'",
     "output_type": "error",
     "traceback": [
      "\u001b[1;31m---------------------------------------------------------------------------\u001b[0m",
      "\u001b[1;31mAttributeError\u001b[0m                            Traceback (most recent call last)",
      "\u001b[1;32m~\\AppData\\Local\\Temp\\ipykernel_1232\\628600853.py\u001b[0m in \u001b[0;36m<module>\u001b[1;34m\u001b[0m\n\u001b[0;32m      1\u001b[0m \u001b[1;32mimport\u001b[0m \u001b[0mtensorflow\u001b[0m \u001b[1;32mas\u001b[0m \u001b[0mtf\u001b[0m\u001b[1;33m\u001b[0m\u001b[1;33m\u001b[0m\u001b[0m\n\u001b[0;32m      2\u001b[0m \u001b[0mhello\u001b[0m \u001b[1;33m=\u001b[0m \u001b[0mtf\u001b[0m\u001b[1;33m.\u001b[0m\u001b[0mconstant\u001b[0m\u001b[1;33m(\u001b[0m\u001b[1;34m\"hello,tensorflow\"\u001b[0m\u001b[1;33m)\u001b[0m\u001b[1;33m\u001b[0m\u001b[1;33m\u001b[0m\u001b[0m\n\u001b[1;32m----> 3\u001b[1;33m \u001b[0msess\u001b[0m\u001b[1;33m=\u001b[0m\u001b[0mtf\u001b[0m\u001b[1;33m.\u001b[0m\u001b[0mSession\u001b[0m\u001b[1;33m(\u001b[0m\u001b[1;33m)\u001b[0m\u001b[1;33m\u001b[0m\u001b[1;33m\u001b[0m\u001b[0m\n\u001b[0m\u001b[0;32m      4\u001b[0m \u001b[0mprint\u001b[0m\u001b[1;33m(\u001b[0m\u001b[0msess\u001b[0m\u001b[1;33m.\u001b[0m\u001b[0mrun\u001b[0m\u001b[1;33m(\u001b[0m\u001b[0mhello\u001b[0m\u001b[1;33m)\u001b[0m\u001b[1;33m)\u001b[0m\u001b[1;33m\u001b[0m\u001b[1;33m\u001b[0m\u001b[0m\n",
      "\u001b[1;31mAttributeError\u001b[0m: module 'tensorflow' has no attribute 'Session'"
     ]
    }
   ],
   "source": [
    "import tensorflow as tf\n",
    "hello = tf.constant(\"hello,tensorflow\")\n",
    "sess=tf.Session()\n",
    "print(sess.run(hello))"
   ]
  },
  {
   "cell_type": "code",
   "execution_count": null,
   "id": "80509565",
   "metadata": {},
   "outputs": [],
   "source": [
    "import numpy as np\n",
    "import matplotlib.pyplot as plt\n",
    "import pandas as pd\n",
    "veriler = pd.read_csv(\"Churn_Modelling.csv\")\n",
    "veriler.head()"
   ]
  },
  {
   "cell_type": "code",
   "execution_count": null,
   "id": "364c1f11",
   "metadata": {},
   "outputs": [],
   "source": [
    "X = veriler.iloc[:,3:13].values\n",
    "Y = veriler.iloc[:,13].values\n",
    "\n",
    "from sklearn import preprocessing\n",
    "\n",
    "le = preprocessing.LabelEncoder()\n",
    "X[:,1] = le.fit_transform(X[:,1])\n",
    "\n",
    "le2 = preprocessing.LabelEncoder()\n",
    "X[:,2] = le2.fit_transform(X[:,2])\n",
    "\n",
    "from sklearn.preprocessing import OneHotEncoder\n",
    "from sklearn.compose import ColumnTransformer\n",
    "\n",
    "ohe = ColumnTransformer([(\"ohe\", \n",
    "                         OneHotEncoder(dtype = float), \n",
    "                         [1])], remainder = \"passthrough\")\n",
    "\n",
    "X = ohe.fit_transform(X)\n",
    "X = X[:,1:]"
   ]
  },
  {
   "cell_type": "code",
   "execution_count": null,
   "id": "eb16bf0f",
   "metadata": {},
   "outputs": [],
   "source": [
    "from sklearn.model_selection import train_test_split\n",
    "x_train, x_test, y_train, y_test = train_test_split(X, Y, test_size = 0.33, random_state = 0)\n",
    "\n",
    "from sklearn.preprocessing import StandardScaler \n",
    "sc = StandardScaler()\n",
    "\n",
    "X_train = sc.fit_transform(x_train)\n",
    "X_test = sc.fit_transform(x_test)"
   ]
  }
 ],
 "metadata": {
  "kernelspec": {
   "display_name": "Python 3 (ipykernel)",
   "language": "python",
   "name": "python3"
  },
  "language_info": {
   "codemirror_mode": {
    "name": "ipython",
    "version": 3
   },
   "file_extension": ".py",
   "mimetype": "text/x-python",
   "name": "python",
   "nbconvert_exporter": "python",
   "pygments_lexer": "ipython3",
   "version": "3.9.13"
  }
 },
 "nbformat": 4,
 "nbformat_minor": 5
}
