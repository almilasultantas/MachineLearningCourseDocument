{
 "cells": [
  {
   "cell_type": "markdown",
   "id": "4f451da9",
   "metadata": {},
   "source": [
    "Thompson örneklemesi ( sampling ) yaklaşımı\n",
    "hesaplanan en yüksek beta değeri alınıyor "
   ]
  },
  {
   "cell_type": "markdown",
   "id": "4fa93a77",
   "metadata": {},
   "source": [
    "istatislikten geliyor \n",
    "1933te ortaya çıktı \n",
    "banttan karışık örnek alıyor hepsi değil sonra orada ki hatalar inceleniyor \n",
    "bayes yaklaşım uygulanıyor \n",
    "(yayınlanmış makaleler var)\n",
    "greedy decision ucb dir \n",
    "genellikle thompson ile ucb karşılaştırılıyor \n",
    "elimizde yeterli veri olmadığında bir miktar veriden gerçek veri tahmin edilmeye çalışılıyor \n",
    "thompson samplingde aslında her makinenin arkasında bir dağılım var bizim yapmak istediğimiz bu dağılımları bulmak ve biz bu dağılıma linear yaklaşım yaparak ihtimal havuzunu daraltmaya çalışıyoruz buna beta dağılımı diyoruz \n",
    "beta istatistiksel bir dağılımdır iki parametre alır alfa ve beta \n",
    "doğadaki olayları bir dağılıma oturtmak amaç ve bir çok dağılım çeşiti var \n",
    "thompson sampling tahmin etmeye çalışıyor hangi dağılıma sahip olduğunu ve tahmin edilen dağılımı thompson samplingte kullanabilir miyiz \n",
    "pythonda random betavariate beta dağılımıyla alakalı random sayı üretmemizi sağlıyor \n",
    "en yüksek beta değerine sahip olanı seçiyoruz\n"
   ]
  },
  {
   "cell_type": "code",
   "execution_count": 1,
   "id": "bce89457",
   "metadata": {},
   "outputs": [],
   "source": [
    "import pandas as pd\n",
    "import numpy as np\n",
    "import matplotlib.pyplot as plt\n",
    "import random \n"
   ]
  },
  {
   "cell_type": "code",
   "execution_count": 2,
   "id": "24b32913",
   "metadata": {},
   "outputs": [
    {
     "data": {
      "text/html": [
       "<div>\n",
       "<style scoped>\n",
       "    .dataframe tbody tr th:only-of-type {\n",
       "        vertical-align: middle;\n",
       "    }\n",
       "\n",
       "    .dataframe tbody tr th {\n",
       "        vertical-align: top;\n",
       "    }\n",
       "\n",
       "    .dataframe thead th {\n",
       "        text-align: right;\n",
       "    }\n",
       "</style>\n",
       "<table border=\"1\" class=\"dataframe\">\n",
       "  <thead>\n",
       "    <tr style=\"text-align: right;\">\n",
       "      <th></th>\n",
       "      <th>Ad 1</th>\n",
       "      <th>Ad 2</th>\n",
       "      <th>Ad 3</th>\n",
       "      <th>Ad 4</th>\n",
       "      <th>Ad 5</th>\n",
       "      <th>Ad 6</th>\n",
       "      <th>Ad 7</th>\n",
       "      <th>Ad 8</th>\n",
       "      <th>Ad 9</th>\n",
       "      <th>Ad 10</th>\n",
       "    </tr>\n",
       "  </thead>\n",
       "  <tbody>\n",
       "    <tr>\n",
       "      <th>0</th>\n",
       "      <td>1</td>\n",
       "      <td>0</td>\n",
       "      <td>0</td>\n",
       "      <td>0</td>\n",
       "      <td>1</td>\n",
       "      <td>0</td>\n",
       "      <td>0</td>\n",
       "      <td>0</td>\n",
       "      <td>1</td>\n",
       "      <td>0</td>\n",
       "    </tr>\n",
       "    <tr>\n",
       "      <th>1</th>\n",
       "      <td>0</td>\n",
       "      <td>0</td>\n",
       "      <td>0</td>\n",
       "      <td>0</td>\n",
       "      <td>0</td>\n",
       "      <td>0</td>\n",
       "      <td>0</td>\n",
       "      <td>0</td>\n",
       "      <td>1</td>\n",
       "      <td>0</td>\n",
       "    </tr>\n",
       "    <tr>\n",
       "      <th>2</th>\n",
       "      <td>0</td>\n",
       "      <td>0</td>\n",
       "      <td>0</td>\n",
       "      <td>0</td>\n",
       "      <td>0</td>\n",
       "      <td>0</td>\n",
       "      <td>0</td>\n",
       "      <td>0</td>\n",
       "      <td>0</td>\n",
       "      <td>0</td>\n",
       "    </tr>\n",
       "    <tr>\n",
       "      <th>3</th>\n",
       "      <td>0</td>\n",
       "      <td>1</td>\n",
       "      <td>0</td>\n",
       "      <td>0</td>\n",
       "      <td>0</td>\n",
       "      <td>0</td>\n",
       "      <td>0</td>\n",
       "      <td>1</td>\n",
       "      <td>0</td>\n",
       "      <td>0</td>\n",
       "    </tr>\n",
       "    <tr>\n",
       "      <th>4</th>\n",
       "      <td>0</td>\n",
       "      <td>0</td>\n",
       "      <td>0</td>\n",
       "      <td>0</td>\n",
       "      <td>0</td>\n",
       "      <td>0</td>\n",
       "      <td>0</td>\n",
       "      <td>0</td>\n",
       "      <td>0</td>\n",
       "      <td>0</td>\n",
       "    </tr>\n",
       "  </tbody>\n",
       "</table>\n",
       "</div>"
      ],
      "text/plain": [
       "   Ad 1  Ad 2  Ad 3  Ad 4  Ad 5  Ad 6  Ad 7  Ad 8  Ad 9  Ad 10\n",
       "0     1     0     0     0     1     0     0     0     1      0\n",
       "1     0     0     0     0     0     0     0     0     1      0\n",
       "2     0     0     0     0     0     0     0     0     0      0\n",
       "3     0     1     0     0     0     0     0     1     0      0\n",
       "4     0     0     0     0     0     0     0     0     0      0"
      ]
     },
     "execution_count": 2,
     "metadata": {},
     "output_type": "execute_result"
    }
   ],
   "source": [
    "veriler = pd.read_csv(\"Ads_CTR_Optimisation.csv\")\n",
    "veriler.head()"
   ]
  },
  {
   "cell_type": "code",
   "execution_count": 3,
   "id": "7b591144",
   "metadata": {},
   "outputs": [
    {
     "name": "stdout",
     "output_type": "stream",
     "text": [
      "Toplam Ödül\n",
      "2531\n"
     ]
    },
    {
     "data": {
      "image/png": "[encoded data removed]",
      "text/plain": [
       "<Figure size 640x480 with 1 Axes>"
      ]
     },
     "metadata": {},
     "output_type": "display_data"
    }
   ],
   "source": [
    "N = 10000\n",
    "d = 10\n",
    "toplam = 0 \n",
    "secilenler = []\n",
    "birler = [0]*d\n",
    "sifirlar = [0]*d\n",
    "for n in range(1, N):\n",
    "    ad = 0 \n",
    "    max_th = 0\n",
    "    for i in range(0, d):\n",
    "        rasbeta = random.betavariate (birler[i]+1, sifirlar[i]+1)\n",
    "        \n",
    "        if rasbeta > max_th:\n",
    "            max_th =rasbeta\n",
    "            ad = i\n",
    "    secilenler.append(ad)\n",
    "    odul = veriler.values[n, ad]\n",
    "    if odul == 1:\n",
    "        birler[ad] = birler[ad] + 1\n",
    "    else: \n",
    "        sifirlar[ad] = sifirlar[ad] + 1\n",
    "    toplam = toplam + odul\n",
    "print(\"Toplam Ödül\")\n",
    "print(toplam)\n",
    "plt.hist(secilenler)\n",
    "plt.show()\n",
    "    "
   ]
  }
 ],
 "metadata": {
  "kernelspec": {
   "display_name": "Python 3 (ipykernel)",
   "language": "python",
   "name": "python3"
  },
  "language_info": {
   "codemirror_mode": {
    "name": "ipython",
    "version": 3
   },
   "file_extension": ".py",
   "mimetype": "text/x-python",
   "name": "python",
   "nbconvert_exporter": "python",
   "pygments_lexer": "ipython3",
   "version": "3.11.1"
  }
 },
 "nbformat": 4,
 "nbformat_minor": 5
}
