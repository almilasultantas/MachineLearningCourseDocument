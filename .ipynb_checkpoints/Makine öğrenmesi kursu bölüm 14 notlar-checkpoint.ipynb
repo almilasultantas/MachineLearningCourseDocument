{
 "cells": [
  {
   "cell_type": "markdown",
   "id": "1f432e53",
   "metadata": {},
   "source": [
    "Yapay Sinir Ağları (YSA)\n",
    "Artificial Neural Network (ANN)\n",
    "\n",
    "derin öğrenmenin temelini oluşturuyor \n",
    "    * Sinir bilim ve bilgisayar bilim \n",
    "    * Nöron (Neuron)\n",
    "    * Sinapsis (Synapsis)\n",
    "    * YSA Çalışma mantığı \n",
    "   \n",
    "\n"
   ]
  },
  {
   "cell_type": "markdown",
   "id": "db1021e8",
   "metadata": {},
   "source": [
    "# Nöron\n",
    "eşik fonksiyonu = threshold function\n",
    "nöronda aktivasyon fonksiyonunun önemli etkileri var \n",
    "aktivasyon kodu nöronun içinde bulunur nörana girdiler olur ve aktivasyon foksiyonuna göre bir çıktısı veya çıktıları olabilir "
   ]
  },
  {
   "cell_type": "markdown",
   "id": "0cb74b0b",
   "metadata": {},
   "source": [
    "# Yapay Sinir Ağlarında Katman (Layer) Kavramı\n",
    "katmanlar nöronlardan oluşuyor \n",
    "giriş katmanı input layer\n",
    "gizli katman hidden layer\n",
    "çıkış katmanı output layer\n",
    "gizli katmanda ekstra katman oluşturulabiliyor (nörondan bahsedilmiyor burada)\n",
    "\n"
   ]
  },
  {
   "cell_type": "markdown",
   "id": "40c920fe",
   "metadata": {},
   "source": [
    "Linearly seperable = and or \n",
    "exor is not linearly seperable\n"
   ]
  }
 ],
 "metadata": {
  "kernelspec": {
   "display_name": "Python 3 (ipykernel)",
   "language": "python",
   "name": "python3"
  },
  "language_info": {
   "codemirror_mode": {
    "name": "ipython",
    "version": 3
   },
   "file_extension": ".py",
   "mimetype": "text/x-python",
   "name": "python",
   "nbconvert_exporter": "python",
   "pygments_lexer": "ipython3",
   "version": "3.11.1"
  }
 },
 "nbformat": 4,
 "nbformat_minor": 5
}
