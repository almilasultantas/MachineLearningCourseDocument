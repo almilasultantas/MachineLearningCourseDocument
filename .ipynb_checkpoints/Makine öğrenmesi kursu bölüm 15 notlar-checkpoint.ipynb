{
 "cells": [
  {
   "cell_type": "markdown",
   "id": "de0ff8f7",
   "metadata": {},
   "source": [
    "# Boyut İndirgeme PCA\n",
    "(Pricipal Component Abalysis)\n",
    "# *Kullanım Alanları:\n",
    "    * Gürültü Filtreleme\n",
    "    * Görselleştirme \n",
    "    * Öznitelik Çıkarımı \n",
    "    * Öznitelik Eleme/Dönüştürme\n",
    "    * Borsa Analizi\n",
    "    * Sağlık Verileri/Genetik Veriler\n",
    "# PCA Nedir?\n",
    "yeni boyut elde ederken kullanılıyor \n",
    "uzaklık hesaplaması kullanılanlarda etkilidir ama veri kaybına yol açabilir\n",
    "\n",
    "* Eigen Value (Özdeğer) ve Eigen Vector (Öz Yöney)\n",
    "\n",
    "# PCA Algoritması \n",
    "    * İndirgenmek istenen boyut k olsun\n",
    "    * Veriyi Standartlaştır\n",
    "    * Covariance (Kovaryans) veya Corellation (Korelasyon) matrisinden öz değerleri ve öz vektörleri elde et. (veya SVD kullan)\n",
    "    * Öz değeri büyükten küçüğe sırala ve k tanesini al\n",
    "    * Seçilen k özdeğerden W projeksiyon matrisini oluştur\n",
    "    * Orjinal veri kümesi X'i W kullanarak dönüştür ve k-boyutlu Y uzayını elde et"
   ]
  },
  {
   "cell_type": "code",
   "execution_count": null,
   "id": "8b10459e",
   "metadata": {},
   "outputs": [],
   "source": [
    "import pandas as pd\n",
    "import numpy as np\n",
    "import matplotlib.pyplot as plt\n",
    "\n",
    "veriler = pd.read?csv(\"Wine.csv\")\n",
    "X = veriler.iloc[:,0:13]\n",
    "y = veriler.iloc[:,13]\n",
    "\n",
    "from sklearn.model_selection import train_test_split\n",
    "X_train, X_test, y_train, y_test = train_test_split(X, y, test_size = 0.2, random_state = 0)\n",
    "\n",
    "from sklearn.preprocessing import StandartScaler\n",
    "sc = StandardScaler()\n",
    "X_train = sc.fit_transform(X_train)\n",
    "X_test = sc.transform(X_test)"
   ]
  },
  {
   "cell_type": "code",
   "execution_count": null,
   "id": "2de94fb9",
   "metadata": {},
   "outputs": [],
   "source": [
    "#PCA Kodu\n"
   ]
  }
 ],
 "metadata": {
  "kernelspec": {
   "display_name": "Python 3 (ipykernel)",
   "language": "python",
   "name": "python3"
  },
  "language_info": {
   "codemirror_mode": {
    "name": "ipython",
    "version": 3
   },
   "file_extension": ".py",
   "mimetype": "text/x-python",
   "name": "python",
   "nbconvert_exporter": "python",
   "pygments_lexer": "ipython3",
   "version": "3.9.13"
  }
 },
 "nbformat": 4,
 "nbformat_minor": 5
}
