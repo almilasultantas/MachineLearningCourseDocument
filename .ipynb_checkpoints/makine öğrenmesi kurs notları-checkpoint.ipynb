{
 "cells": [
  {
   "cell_type": "markdown",
   "id": "119393c1",
   "metadata": {},
   "source": [
    "python ile makine öğrenmesi 1. uygulamalı ders"
   ]
  },
  {
   "cell_type": "code",
   "execution_count": 1,
   "id": "8b704056",
   "metadata": {},
   "outputs": [],
   "source": [
    "import pandas as pd # veriler için \n",
    "import numpy as np # büyük sayılar ve hesaplamalar için kullandığımız kütüphane \n",
    "import matplotlib.pyplot as plt # çizimler için"
   ]
  },
  {
   "cell_type": "markdown",
   "id": "f84b51d4",
   "metadata": {},
   "source": [
    "python ile makine öğrenmesi 2. uygulamalı ders"
   ]
  },
  {
   "cell_type": "code",
   "execution_count": 2,
   "id": "22175284",
   "metadata": {},
   "outputs": [],
   "source": [
    "veriler = pd.read_csv(\"veriler.csv\")"
   ]
  },
  {
   "cell_type": "code",
   "execution_count": 3,
   "id": "b7c9cbf0",
   "metadata": {},
   "outputs": [],
   "source": [
    "#print(veriler)\n",
    "boy = veriler [[\"boy\"]]\n",
    "#print(boy)\n",
    "boykilo= veriler[[\"boy\", \"kilo\"]]\n",
    "#print(boykilo)"
   ]
  },
  {
   "cell_type": "markdown",
   "id": "ca7bd805",
   "metadata": {},
   "source": [
    "python ile makine öğrenmesi 3. uygulamalı ders"
   ]
  },
  {
   "cell_type": "code",
   "execution_count": 4,
   "id": "6e99de4d",
   "metadata": {},
   "outputs": [
    {
     "name": "stdout",
     "output_type": "stream",
     "text": [
      "180\n",
      "100\n"
     ]
    }
   ],
   "source": [
    "class insan:\n",
    "    boy=180\n",
    "    def kosmak(self,b):\n",
    "        return b+10\n",
    "\n",
    "ali=insan()\n",
    "print(ali.boy)\n",
    "print(ali.kosmak(90))\n",
    "l=[1,2,3] # liste\n"
   ]
  },
  {
   "cell_type": "markdown",
   "id": "50e04d89",
   "metadata": {},
   "source": [
    "python ile makine öğrenmesi 4. uygulamalı ders"
   ]
  },
  {
   "cell_type": "markdown",
   "id": "5a691b62",
   "metadata": {},
   "source": [
    "eksik verilerde çözüm yöntemlerinden biri kolon eğer sayısal verilerden oluşuyorsa o kolonun ortalamasnının alınıp boş olan yerlere yazdırılmasıdır. "
   ]
  },
  {
   "cell_type": "code",
   "execution_count": 5,
   "id": "acbc7936",
   "metadata": {},
   "outputs": [],
   "source": [
    "eksikveriler = pd.read_csv(\"eksikveriler.csv\")\n",
    "#print(eksikveriler)\n",
    "from sklearn.impute import SimpleImputer\n",
    "imputer = SimpleImputer(missing_values = np.nan, strategy = \"mean\")\n",
    "yas= eksikveriler.iloc[:,1:4].values\n",
    "#print(yas)\n",
    "imputer= imputer.fit(yas[:,1:4])\n",
    "yas[:,1:4] = imputer.transform(yas[:,1:4])\n",
    "#print(yas)\n"
   ]
  },
  {
   "cell_type": "markdown",
   "id": "43676268",
   "metadata": {},
   "source": [
    "python ile makine öğrenmesi 4. uygulamalı ders"
   ]
  },
  {
   "cell_type": "markdown",
   "id": "364e40f2",
   "metadata": {},
   "source": [
    "bir kolonda farklı string etiketler varsa örn: TR FR US gibi bunlarda tek kolon kullanmak yerine çoklu kolona geçilir ver TR FR US için ayrı kolonlar oluşturulur ve 1|0 kullanılarak etiketlenmiş olur. (Şekil2 => Şekil1)\n",
    "        \n",
    "        TR FR US\n",
    "     TR 1   0  0    TR\n",
    "     TR 1   0  0    TR\n",
    "     FR 0   1  0    FR\n",
    "     US 0   0  1    US\n",
    "     TR 1   0  0    TR\n",
    "     US 0   0  1    US\n",
    "       Şekil1     Şekil2"
   ]
  },
  {
   "cell_type": "code",
   "execution_count": 6,
   "id": "79cc60ab",
   "metadata": {},
   "outputs": [],
   "source": [
    "ulke = veriler.iloc[:,0:1].values\n",
    "#print(ulke)\n",
    "from sklearn import preprocessing\n",
    "le = preprocessing.LabelEncoder()\n",
    "ulke[:,0] = le.fit_transform(veriler.iloc[:,0])\n",
    "#print(ulke)\n",
    "ohe = preprocessing.OneHotEncoder()\n",
    "ulke = ohe.fit_transform(ulke).toarray()\n",
    "#print(ulke)\n"
   ]
  },
  {
   "cell_type": "markdown",
   "id": "3c40259c",
   "metadata": {},
   "source": [
    "python ile makine öğrenmesi 5. uygulamalı ders"
   ]
  },
  {
   "cell_type": "code",
   "execution_count": 17,
   "id": "1ab9e7f8",
   "metadata": {},
   "outputs": [],
   "source": [
    "sonuc = pd.DataFrame(data = ulke, index = range(22), columns = [\"fr\", \"tr\",\"us\"])\n",
    "#print(sonuc)\n",
    "\n",
    "sonuc2 = pd.DataFrame(data= yas, index = range(22), columns = [\"boy\", \"kilo\", \"yas\"])\n",
    "#print(sonuc2)\n",
    "\n",
    "cinsiyet = veriler.iloc[:, -1].values\n",
    "#print(cinsiyet)\n",
    "\n",
    "sonuc3 = pd.DataFrame(data = cinsiyet, index = range(22), columns = [\"cinsiyet\"])\n",
    "#print(sonuc3)\n",
    "\n",
    "#dataframeleri birleştirme\n",
    "\n",
    "s = pd.concat([sonuc,sonuc2], axis = 1)\n",
    "#print(s)\n",
    "\n",
    "s2 = pd.concat([s, sonuc3], axis = 1)\n",
    "#print(s2)"
   ]
  },
  {
   "cell_type": "markdown",
   "id": "3ef73b01",
   "metadata": {},
   "source": [
    "python ile makine öğrenmesi 6. uygulamalı ders"
   ]
  },
  {
   "cell_type": "code",
   "execution_count": 21,
   "id": "5c730f0d",
   "metadata": {},
   "outputs": [],
   "source": [
    "#verileri test ve eğitim olarak bölme\n",
    "\n",
    "from sklearn.model_selection import train_test_split\n",
    "\n",
    "x_train, x_test, y_train, y_test = train_test_split(s, sonuc3, test_size = 0.33, random_state=0)\n",
    "\n",
    "#print(x_train, y_train)\n",
    "#print(x_test, y_test)"
   ]
  },
  {
   "cell_type": "markdown",
   "id": "c7a4dbe8",
   "metadata": {},
   "source": [
    "python ile makine öğrenmesi 7. uygulamalı ders"
   ]
  },
  {
   "cell_type": "markdown",
   "id": "b45b6c25",
   "metadata": {},
   "source": [
    "verilerde ölçeklendirme yaptık (standartlaştırma yaptık)"
   ]
  },
  {
   "cell_type": "code",
   "execution_count": 23,
   "id": "8d632ff0",
   "metadata": {},
   "outputs": [],
   "source": [
    "from sklearn.preprocessing import StandardScaler\n",
    "sc = StandardScaler()\n",
    "\n",
    "X_train = sc.fit_transform(x_train)\n",
    "X_test = sc.fit_transform(x_test)\n",
    "\n",
    "#print(X_test)\n",
    "#print(X_train)"
   ]
  },
  {
   "cell_type": "markdown",
   "id": "58c3b0d4",
   "metadata": {},
   "source": [
    "python ile makine öğrenmesi 8. uygulamalı ders"
   ]
  },
  {
   "cell_type": "markdown",
   "id": "e5aa492f",
   "metadata": {},
   "source": [
    "Tahmin(prediction) forecasting(öngörü) farkı\n",
    "\n",
    "prediction>forecasting\n",
    "forecasting ileride olacak olan tahmin yaparken prediction ise geçmiş gelecek arada ki bi değerin tahminini yapabiliyor\n"
   ]
  },
  {
   "cell_type": "markdown",
   "id": "fdbba6d9",
   "metadata": {},
   "source": [
    "Makine öğrenmesi modellerine giriş"
   ]
  },
  {
   "cell_type": "code",
   "execution_count": null,
   "id": "8bf2334d",
   "metadata": {},
   "outputs": [],
   "source": [
    "# prediction \\ Tahmin\n",
    "# Simple Linear Regression (Basit Doğrusal regresyon)\n",
    "# örn borsa tahmini\n",
    "\n",
    "\n"
   ]
  }
 ],
 "metadata": {
  "kernelspec": {
   "display_name": "Python 3 (ipykernel)",
   "language": "python",
   "name": "python3"
  },
  "language_info": {
   "codemirror_mode": {
    "name": "ipython",
    "version": 3
   },
   "file_extension": ".py",
   "mimetype": "text/x-python",
   "name": "python",
   "nbconvert_exporter": "python",
   "pygments_lexer": "ipython3",
   "version": "3.11.1"
  }
 },
 "nbformat": 4,
 "nbformat_minor": 5
}
