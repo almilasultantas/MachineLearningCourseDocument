{
 "cells": [
  {
   "cell_type": "markdown",
   "id": "cb119a5a",
   "metadata": {},
   "source": [
    "Pekiştirmeli öğrenme \\ takviyeli öğrenme \n",
    "\n",
    "Reinforced Learning\n",
    "\n",
    "makinenin kendi kendine öğrenebilmesi üzerine dayalı bir öğrenme \n",
    "makinanın kendi kendine hatalarından ders çıkarmasıyla alakalı \n",
    "belirlenen hedefe ulaşmak için makinanaın kendisini iyileştirmesi \n",
    "\n",
    "( AlphaGO )\n",
    "\n",
    "A\\B test \n",
    "Tek kollu canavar ( One Armed Bandit )\n"
   ]
  },
  {
   "cell_type": "markdown",
   "id": "e24b3a10",
   "metadata": {},
   "source": [
    "Üst Güven Aralığı \\ Üst Güven Sınırı\n",
    "Upper Confidence Bound ( UCB )\n",
    "\n",
    "dağılımları nasıl \" en \" avantajlı hale çeviririz ?\n",
    "\n",
    "    * kullanıcı her seferinde bir eylem yapar ( event - e )\n",
    "    * bu eylem karşılığında bir skor döner ( örneğin web tıklaması 1 ve tıklanmaması 0 ) \n",
    "    * amaç tıklamaları maksimuma çıkarmak \n",
    "\n",
    "en yüksek ( değere ) sınıra karar veriyor \n"
   ]
  },
  {
   "cell_type": "markdown",
   "id": "32c85d1f",
   "metadata": {},
   "source": [
    "Python Rastgele Yaklaşımın kodlaması "
   ]
  },
  {
   "cell_type": "code",
   "execution_count": 1,
   "id": "506f5518",
   "metadata": {},
   "outputs": [],
   "source": [
    "import pandas as pd\n",
    "import numpy as np \n",
    "import matplotlib.pyplot as plt"
   ]
  },
  {
   "cell_type": "code",
   "execution_count": 2,
   "id": "ee32f0fa",
   "metadata": {},
   "outputs": [
    {
     "data": {
      "text/html": [
       "<div>\n",
       "<style scoped>\n",
       "    .dataframe tbody tr th:only-of-type {\n",
       "        vertical-align: middle;\n",
       "    }\n",
       "\n",
       "    .dataframe tbody tr th {\n",
       "        vertical-align: top;\n",
       "    }\n",
       "\n",
       "    .dataframe thead th {\n",
       "        text-align: right;\n",
       "    }\n",
       "</style>\n",
       "<table border=\"1\" class=\"dataframe\">\n",
       "  <thead>\n",
       "    <tr style=\"text-align: right;\">\n",
       "      <th></th>\n",
       "      <th>Ad 1</th>\n",
       "      <th>Ad 2</th>\n",
       "      <th>Ad 3</th>\n",
       "      <th>Ad 4</th>\n",
       "      <th>Ad 5</th>\n",
       "      <th>Ad 6</th>\n",
       "      <th>Ad 7</th>\n",
       "      <th>Ad 8</th>\n",
       "      <th>Ad 9</th>\n",
       "      <th>Ad 10</th>\n",
       "    </tr>\n",
       "  </thead>\n",
       "  <tbody>\n",
       "    <tr>\n",
       "      <th>0</th>\n",
       "      <td>1</td>\n",
       "      <td>0</td>\n",
       "      <td>0</td>\n",
       "      <td>0</td>\n",
       "      <td>1</td>\n",
       "      <td>0</td>\n",
       "      <td>0</td>\n",
       "      <td>0</td>\n",
       "      <td>1</td>\n",
       "      <td>0</td>\n",
       "    </tr>\n",
       "    <tr>\n",
       "      <th>1</th>\n",
       "      <td>0</td>\n",
       "      <td>0</td>\n",
       "      <td>0</td>\n",
       "      <td>0</td>\n",
       "      <td>0</td>\n",
       "      <td>0</td>\n",
       "      <td>0</td>\n",
       "      <td>0</td>\n",
       "      <td>1</td>\n",
       "      <td>0</td>\n",
       "    </tr>\n",
       "    <tr>\n",
       "      <th>2</th>\n",
       "      <td>0</td>\n",
       "      <td>0</td>\n",
       "      <td>0</td>\n",
       "      <td>0</td>\n",
       "      <td>0</td>\n",
       "      <td>0</td>\n",
       "      <td>0</td>\n",
       "      <td>0</td>\n",
       "      <td>0</td>\n",
       "      <td>0</td>\n",
       "    </tr>\n",
       "    <tr>\n",
       "      <th>3</th>\n",
       "      <td>0</td>\n",
       "      <td>1</td>\n",
       "      <td>0</td>\n",
       "      <td>0</td>\n",
       "      <td>0</td>\n",
       "      <td>0</td>\n",
       "      <td>0</td>\n",
       "      <td>1</td>\n",
       "      <td>0</td>\n",
       "      <td>0</td>\n",
       "    </tr>\n",
       "    <tr>\n",
       "      <th>4</th>\n",
       "      <td>0</td>\n",
       "      <td>0</td>\n",
       "      <td>0</td>\n",
       "      <td>0</td>\n",
       "      <td>0</td>\n",
       "      <td>0</td>\n",
       "      <td>0</td>\n",
       "      <td>0</td>\n",
       "      <td>0</td>\n",
       "      <td>0</td>\n",
       "    </tr>\n",
       "  </tbody>\n",
       "</table>\n",
       "</div>"
      ],
      "text/plain": [
       "   Ad 1  Ad 2  Ad 3  Ad 4  Ad 5  Ad 6  Ad 7  Ad 8  Ad 9  Ad 10\n",
       "0     1     0     0     0     1     0     0     0     1      0\n",
       "1     0     0     0     0     0     0     0     0     1      0\n",
       "2     0     0     0     0     0     0     0     0     0      0\n",
       "3     0     1     0     0     0     0     0     1     0      0\n",
       "4     0     0     0     0     0     0     0     0     0      0"
      ]
     },
     "execution_count": 2,
     "metadata": {},
     "output_type": "execute_result"
    }
   ],
   "source": [
    "veriler = pd.read_csv(\"Ads_CTR_Optimisation.csv\")\n",
    "veriler.head()"
   ]
  },
  {
   "cell_type": "code",
   "execution_count": 5,
   "id": "903f37ae",
   "metadata": {},
   "outputs": [
    {
     "name": "stdout",
     "output_type": "stream",
     "text": [
      "5 0 1262\n"
     ]
    },
    {
     "data": {
      "image/png": "[encoded data removed]",
      "text/plain": [
       "<Figure size 640x480 with 1 Axes>"
      ]
     },
     "metadata": {},
     "output_type": "display_data"
    }
   ],
   "source": [
    "import random \n",
    "N = 10000\n",
    "d = 10 \n",
    "toplam = 0\n",
    "secilenler = []\n",
    "for n in range (0, N):\n",
    "    ad = random.randrange(d)\n",
    "    secilenler.append(ad)\n",
    "    odul = veriler.values[n,ad] # verilerde ki n. satır = 1 ise odul 1\n",
    "    toplam = toplam + odul \n",
    "print(ad, odul, toplam)\n",
    "plt.hist(secilenler)\n",
    "plt.show()"
   ]
  },
  {
   "cell_type": "markdown",
   "id": "e3e37c99",
   "metadata": {},
   "source": [
    "UCB kodlaması \n",
    "bir önce ki tecrübeleri bir sonraki seçimine yansıtıyor\n",
    "adım 1 : her turda (tur sayısı n olsun), her reklam alternatifi (i için) aşağıdaki sayılar tutulur \n",
    "    * Ni(n) : i sayılı reklamın o ana kadar ki tıklama sayısı \n",
    "    * Ri(n) : o ana kadar ki i reklamından gelen toplam ödül \n",
    "adım 2 : yukarıdaki bu iki sayıdan, aşağıdaki değerler hesaplanır \n",
    "    * o ana kadar ki her reklamın ortalama ödülü [Ri(n)\\Ni(n)]\n",
    "    * güven aralığı için aşağıda ve yukarı oynama potansiyeli di(n)math.sqrt((3log(n)\\2Ni(n)))\n",
    "adım 3 : en yüksek UCB değerine sahip olanı alırız \n"
   ]
  },
  {
   "cell_type": "code",
   "execution_count": null,
   "id": "e12af5c4",
   "metadata": {},
   "outputs": [],
   "source": [
    "veriler = pd.read_csv(\"Ads_CTR_Optimisation.csv\")\n",
    "N = 10000 # 10.000 tıklama\n",
    "d = 10 #toplam 10 ilan var\n",
    "#Ri(n)\n",
    "oduller = [0] * d # ilk başta tüm ilanların ödülü 0 \n",
    "#Ni(n)\n",
    "toplam = 0 #toplam ödül\n",
    "tiklamalar  = [0] * d # o ana kadar ki tıklamalar \n",
    "for i in range(0,N):\n",
    "    ad = 0 #seçilen ilan\n",
    "    max_ucb = 0\n",
    "    for i in range (0,d):\n",
    "        if()\n",
    "        ortalama = oduller[i] / tiklamalar [i]\n",
    "        delta = math.sqrt(3/2 * math.log(n)/ tiklamalar[i])\n",
    "        ucb = ortalama + delta\n",
    "        if max_ucb < ucb: # max'tan büyük bir ucb çıktı\n",
    "            max_ucb= ucb\n",
    "            ad = i\n",
    "            \n",
    "    odul = veriler.values[n,ad]"
   ]
  }
 ],
 "metadata": {
  "kernelspec": {
   "display_name": "Python 3 (ipykernel)",
   "language": "python",
   "name": "python3"
  },
  "language_info": {
   "codemirror_mode": {
    "name": "ipython",
    "version": 3
   },
   "file_extension": ".py",
   "mimetype": "text/x-python",
   "name": "python",
   "nbconvert_exporter": "python",
   "pygments_lexer": "ipython3",
   "version": "3.11.1"
  }
 },
 "nbformat": 4,
 "nbformat_minor": 5
}
