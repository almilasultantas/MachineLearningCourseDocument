{
 "cells": [
  {
   "cell_type": "markdown",
   "id": "cb119a5a",
   "metadata": {},
   "source": [
    "Pekiştirmeli öğrenme \\ takviyeli öğrenme \n",
    "\n",
    "Reinforced Learning\n",
    "\n",
    "makinenin kendi kendine öğrenebilmesi üzerine dayalı bir öğrenme \n",
    "makinanın kendi kendine hatalarından ders çıkarmasıyla alakalı \n",
    "belirlenen hedefe ulaşmak için makinanaın kendisini iyileştirmesi \n",
    "\n",
    "( AlphaGO )\n",
    "\n",
    "A\\B test \n",
    "Tek kollu canavar ( One Armed Bandit )\n"
   ]
  },
  {
   "cell_type": "markdown",
   "id": "e24b3a10",
   "metadata": {},
   "source": [
    "Üst Güven Aralığı \\ Üst Güven Sınırı\n",
    "Upper Confidence Bound ( UCB )\n",
    "\n",
    "dağılımları nasıl \" en \" avantajlı hale çeviririz ?\n",
    "\n",
    "    * kullanıcı her seferinde bir eylem yapar ( event - e )\n",
    "    * bu eylem karşılığında bir skor döner ( örneğin web tıklaması 1 ve tıklanmaması 0 ) \n",
    "    * amaç tıklamaları maksimuma çıkarmak \n",
    "\n",
    "en yüksek ( değere ) sınıra karar veriyor \n"
   ]
  }
 ],
 "metadata": {
  "kernelspec": {
   "display_name": "Python 3 (ipykernel)",
   "language": "python",
   "name": "python3"
  },
  "language_info": {
   "codemirror_mode": {
    "name": "ipython",
    "version": 3
   },
   "file_extension": ".py",
   "mimetype": "text/x-python",
   "name": "python",
   "nbconvert_exporter": "python",
   "pygments_lexer": "ipython3",
   "version": "3.11.1"
  }
 },
 "nbformat": 4,
 "nbformat_minor": 5
}
