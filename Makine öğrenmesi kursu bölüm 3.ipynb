{
 "cells": [
  {
   "cell_type": "markdown",
   "id": "292cbe73",
   "metadata": {},
   "source": [
    "Multiple Linear Regression Çoklu Doğrusal Regresyon"
   ]
  },
  {
   "cell_type": "markdown",
   "id": "3fc11629",
   "metadata": {},
   "source": [
    "sonuç birden fazla değişkene bağlıysa çoklu doğrusal regresyon olmuş oluyor."
   ]
  },
  {
   "cell_type": "markdown",
   "id": "350802c2",
   "metadata": {},
   "source": [
    "kukla değişken tuzağı ( dummy variable ) değişkeni ifade eden başka bir değişken demektir \n",
    "örn: bir kolondan encoding yaparak iki kolon oluşturduk böylece üç kolonda aynı şeyi ifade eder hale geldi. her kolonun makine öğrenmesi için etkisi vardır bu durumda bu üö kolon dummy variable a sebep olur.\n",
    "encoding yaptığımı kolonu bırak yerine diğer iki kolonu bıraktığımızda da dummy variable a sebep verebilir dikkat edilmesi gerekiyor.\n"
   ]
  },
  {
   "cell_type": "markdown",
   "id": "9eb75d3d",
   "metadata": {},
   "source": [
    "p-value ( Probably value | olasılık değeri )"
   ]
  },
  {
   "cell_type": "markdown",
   "id": "7dc024b2",
   "metadata": {},
   "source": [
    "Değişken Seçimi \n",
    "    Farklı Yaklaşımlar\n",
    "        # Bütün değişkenleri dahil etmek\n",
    "        # Geriye doğru eleme ( backward elimination )\n",
    "        # ileri Seçim ( forward selection )\n",
    "        # iki yönlü eleme ( bidirectional elimination ) \n",
    "        # skor karşılaştırması ( score comparison ) "
   ]
  }
 ],
 "metadata": {
  "kernelspec": {
   "display_name": "Python 3 (ipykernel)",
   "language": "python",
   "name": "python3"
  },
  "language_info": {
   "codemirror_mode": {
    "name": "ipython",
    "version": 3
   },
   "file_extension": ".py",
   "mimetype": "text/x-python",
   "name": "python",
   "nbconvert_exporter": "python",
   "pygments_lexer": "ipython3",
   "version": "3.11.1"
  }
 },
 "nbformat": 4,
 "nbformat_minor": 5
}
