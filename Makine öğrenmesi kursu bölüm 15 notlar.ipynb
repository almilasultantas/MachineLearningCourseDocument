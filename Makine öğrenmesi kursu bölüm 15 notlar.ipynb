{
 "cells": [
  {
   "cell_type": "markdown",
   "id": "de0ff8f7",
   "metadata": {},
   "source": [
    "# Boyut İndirgeme PCA\n",
    "(Pricipal Component Abalysis)\n",
    "# *Kullanım Alanları:\n",
    "    * Gürültü Filtreleme\n",
    "    * Görselleştirme \n",
    "    * Öznitelik Çıkarımı \n",
    "    * Öznitelik Eleme/Dönüştürme\n",
    "    * Borsa Analizi\n",
    "    * Sağlık Verileri/Genetik Veriler\n",
    "# PCA Nedir?\n",
    "yeni boyut elde ederken kullanılıyor \n",
    "uzaklık hesaplaması kullanılanlarda etkilidir ama veri kaybına yol açabilir\n",
    "\n",
    "* Eigen Value (Özdeğer) ve Eigen Vector (Öz Yöney)\n",
    "\n",
    "# PCA Algoritması \n",
    "    * İndirgenmek istenen boyut k olsun\n",
    "    * Veriyi Standartlaştır\n",
    "    * Covariance (Kovaryans) veya Corellation (Korelasyon) matrisinden öz değerleri ve öz vektörleri elde et. (veya SVD kullan)\n",
    "    * Öz değeri büyükten küçüğe sırala ve k tanesini al\n",
    "    * Seçilen k özdeğerden W projeksiyon matrisini oluştur\n",
    "    * Orjinal veri kümesi X'i W kullanarak dönüştür ve k-boyutlu Y uzayını elde et"
   ]
  },
  {
   "cell_type": "code",
   "execution_count": 1,
   "id": "8b10459e",
   "metadata": {},
   "outputs": [],
   "source": [
    "import pandas as pd\n",
    "import numpy as np\n",
    "import matplotlib.pyplot as plt\n",
    "\n",
    "veriler = pd.read_csv(\"Wine.csv\")\n",
    "X = veriler.iloc[:,0:13]\n",
    "y = veriler.iloc[:,13]\n",
    "\n",
    "from sklearn.model_selection import train_test_split\n",
    "X_train, X_test, y_train, y_test = train_test_split(X, y, test_size = 0.2, random_state = 0)\n",
    "\n",
    "from sklearn.preprocessing import StandardScaler\n",
    "sc = StandardScaler()\n",
    "X_train = sc.fit_transform(X_train)\n",
    "X_test = sc.transform(X_test)"
   ]
  },
  {
   "cell_type": "code",
   "execution_count": 2,
   "id": "2de94fb9",
   "metadata": {},
   "outputs": [
    {
     "name": "stdout",
     "output_type": "stream",
     "text": [
      "gerçek/PCA'siz\n",
      "[[14  0  0]\n",
      " [ 1 15  0]\n",
      " [ 0  0  6]]\n",
      "gerçek/PCA'li\n",
      "[[14  0  0]\n",
      " [ 1 15  0]\n",
      " [ 0  0  6]]\n",
      "PCA'siz/PCA'li\n",
      "[[15  0  0]\n",
      " [ 0 15  0]\n",
      " [ 0  0  6]]\n"
     ]
    }
   ],
   "source": [
    "#PCA Kodu\n",
    "\n",
    "from sklearn.decomposition import PCA\n",
    "pca=PCA(n_components=2)\n",
    "X_train_pca = pca.fit_transform(X_train)\n",
    "X_test_pca = pca.transform(X_test)\n",
    "\n",
    "from sklearn.linear_model import LogisticRegression\n",
    "LR = LogisticRegression(random_state = 0)\n",
    "LR.fit(X_train,y_train)\n",
    "\n",
    "LR2= LogisticRegression(random_state = 0)\n",
    "LR2.fit(X_train_pca,y_train)\n",
    "\n",
    "y_pred = LR2.predict(X_test_pca)\n",
    "y_pred_pca = LR2.predict(X_test_pca)\n",
    "\n",
    "from sklearn.metrics import confusion_matrix\n",
    "print(\"gerçek/PCA'siz\")\n",
    "cm= confusion_matrix(y_test,y_pred)\n",
    "print(cm)\n",
    "print(\"gerçek/PCA'li\")\n",
    "cm= confusion_matrix(y_test,y_pred_pca)\n",
    "print(cm)\n",
    "print(\"PCA'siz/PCA'li\")\n",
    "cm= confusion_matrix(y_pred,y_pred_pca)\n",
    "print(cm)"
   ]
  },
  {
   "cell_type": "code",
   "execution_count": null,
   "id": "5809dc95",
   "metadata": {},
   "outputs": [],
   "source": []
  }
 ],
 "metadata": {
  "kernelspec": {
   "display_name": "Python 3 (ipykernel)",
   "language": "python",
   "name": "python3"
  },
  "language_info": {
   "codemirror_mode": {
    "name": "ipython",
    "version": 3
   },
   "file_extension": ".py",
   "mimetype": "text/x-python",
   "name": "python",
   "nbconvert_exporter": "python",
   "pygments_lexer": "ipython3",
   "version": "3.9.13"
  }
 },
 "nbformat": 4,
 "nbformat_minor": 5
}
