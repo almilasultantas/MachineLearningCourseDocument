{
 "cells": [
  {
   "cell_type": "markdown",
   "id": "f9ffaf41",
   "metadata": {},
   "source": [
    "Karmaşıklık matrisi\n",
    "confusion matrix\n"
   ]
  },
  {
   "cell_type": "markdown",
   "id": "782cd55f",
   "metadata": {},
   "source": [
    "false positive tip 1 hatası\n",
    "folse negative tip 2 hatası"
   ]
  },
  {
   "cell_type": "markdown",
   "id": "9bc2d7e4",
   "metadata": {},
   "source": [
    "y_proba = makinemodeli.predict_proba(X_test)\n",
    "print(y_proba[:,0]"
   ]
  },
  {
   "cell_type": "markdown",
   "id": "f0a6bedc",
   "metadata": {},
   "source": [
    "from sklearn import metrics\n",
    "\n",
    "fpr, tpr, thold = metrics.roc_curve ( y_test, y_proba[:,0], pos_label = \"e\")\n",
    " not: bir önceki ders notuna bu kodları ekledim"
   ]
  },
  {
   "cell_type": "markdown",
   "id": "1325ecbe",
   "metadata": {},
   "source": [
    "bölütleme / kümeleme ( clustering ) makine örenmesi ve veri madenciliğinin pek gelişmediği yöntemlerdendir\n",
    "gözetimsiz öğrenme vardır sınıflarını bilmiyoruz \n",
    "makine tamamen özgür kendisi verilere bakarak kümeleme yapıyor\n",
    "* \n",
    "    # Müşteri Segmentasyonu \n",
    "        * Collaboration Filtering\n",
    "        * Özel Kampanyaları\n",
    "        * Tehdit ve Sahtekarlık Yakalama \n",
    "        * Eksik verilerin tamamlanması \n",
    "        * Verinin alt kümesi üzerinde yapılan bütün işlemler\n",
    "        \n",
    "    # Pazar Segmentasyonu\n",
    "        * Davranışsal Segmentasyon\n",
    "        * Demografik Segmentasyon\n",
    "        * Psikolojik Segmentasyon\n",
    "        * Coğrafi Segmentasyon \n",
    "        * Verinin alt kümesi üzerinde yapılan bütün işlemler\n",
    " \n",
    "    # Sağlık ve Görüntü İşleme \n",
    "    \n",
    "        "
   ]
  },
  {
   "cell_type": "markdown",
   "id": "fe3bd80c",
   "metadata": {},
   "source": [
    "K-Means \n",
    "K-Ortalama\n",
    "Nasıl Çalışır?\n",
    "    # Kaç küme olacağı kullanıcıdan parametre olarak seçilir (yani k değeri) \n",
    "    # Rastgele olarak k merkez noktası seçilir \n",
    "    # Her veri örneği en yakın merkez noktasına göre ilgili kümeye atanır \n",
    "    # Her küme için yeni merkez noktaları hesaplanarak merkez noktaları kaydırılır \n",
    "    # Yeni merkez noktalarına göre \n"
   ]
  }
 ],
 "metadata": {
  "kernelspec": {
   "display_name": "Python 3 (ipykernel)",
   "language": "python",
   "name": "python3"
  },
  "language_info": {
   "codemirror_mode": {
    "name": "ipython",
    "version": 3
   },
   "file_extension": ".py",
   "mimetype": "text/x-python",
   "name": "python",
   "nbconvert_exporter": "python",
   "pygments_lexer": "ipython3",
   "version": "3.11.1"
  }
 },
 "nbformat": 4,
 "nbformat_minor": 5
}
