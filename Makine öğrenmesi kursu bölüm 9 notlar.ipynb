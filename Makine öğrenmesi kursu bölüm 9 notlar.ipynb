{
 "cells": [
  {
   "cell_type": "markdown",
   "id": "f9ffaf41",
   "metadata": {},
   "source": [
    "Karmaşıklık matrisi\n",
    "confusion matrix\n"
   ]
  },
  {
   "cell_type": "markdown",
   "id": "782cd55f",
   "metadata": {},
   "source": [
    "false positive tip 1 hatası\n",
    "folse negative tip 2 hatası"
   ]
  }
 ],
 "metadata": {
  "kernelspec": {
   "display_name": "Python 3 (ipykernel)",
   "language": "python",
   "name": "python3"
  },
  "language_info": {
   "codemirror_mode": {
    "name": "ipython",
    "version": 3
   },
   "file_extension": ".py",
   "mimetype": "text/x-python",
   "name": "python",
   "nbconvert_exporter": "python",
   "pygments_lexer": "ipython3",
   "version": "3.11.1"
  }
 },
 "nbformat": 4,
 "nbformat_minor": 5
}
