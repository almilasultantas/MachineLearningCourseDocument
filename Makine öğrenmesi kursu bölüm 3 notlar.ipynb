{
 "cells": [
  {
   "cell_type": "markdown",
   "id": "292cbe73",
   "metadata": {},
   "source": [
    "Multiple Linear Regression Çoklu Doğrusal Regresyon"
   ]
  },
  {
   "cell_type": "markdown",
   "id": "3fc11629",
   "metadata": {},
   "source": [
    "sonuç birden fazla değişkene bağlıysa çoklu doğrusal regresyon olmuş oluyor."
   ]
  },
  {
   "cell_type": "markdown",
   "id": "350802c2",
   "metadata": {},
   "source": [
    "kukla değişken tuzağı ( dummy variable ) değişkeni ifade eden başka bir değişken demektir \n",
    "örn: bir kolondan encoding yaparak iki kolon oluşturduk böylece üç kolonda aynı şeyi ifade eder hale geldi. her kolonun makine öğrenmesi için etkisi vardır bu durumda bu üö kolon dummy variable a sebep olur.\n",
    "encoding yaptığımı kolonu bırak yerine diğer iki kolonu bıraktığımızda da dummy variable a sebep verebilir dikkat edilmesi gerekiyor.\n"
   ]
  },
  {
   "cell_type": "markdown",
   "id": "9eb75d3d",
   "metadata": {},
   "source": [
    "p-value ( Probably value | olasılık değeri )"
   ]
  },
  {
   "cell_type": "markdown",
   "id": "7dc024b2",
   "metadata": {},
   "source": [
    "Değişken Seçimi \n",
    "    Farklı Yaklaşımlar\n",
    "        # Bütün değişkenleri dahil etmek\n",
    "        # Geriye doğru eleme ( backward elimination )\n",
    "        # ileri Seçim ( forward selection )\n",
    "        # iki yönlü eleme ( bidirectional elimination ) \n",
    "        # skor karşılaştırması ( score comparison ) "
   ]
  },
  {
   "cell_type": "code",
   "execution_count": 23,
   "id": "85c90dc1",
   "metadata": {},
   "outputs": [
    {
     "name": "stdout",
     "output_type": "stream",
     "text": [
      "[[130]\n",
      " [125]\n",
      " [135]\n",
      " [133]\n",
      " [129]\n",
      " [180]\n",
      " [190]\n",
      " [175]\n",
      " [177]\n",
      " [185]\n",
      " [165]\n",
      " [155]\n",
      " [160]\n",
      " [162]\n",
      " [167]\n",
      " [174]\n",
      " [193]\n",
      " [187]\n",
      " [183]\n",
      " [159]\n",
      " [164]\n",
      " [166]]\n",
      "[[164]\n",
      " [165]\n",
      " [167]\n",
      " [162]\n",
      " [125]\n",
      " [166]\n",
      " [155]\n",
      " [159]]\n",
      "[[182.26638686]\n",
      " [152.87161474]\n",
      " [162.79386375]\n",
      " [158.30668577]\n",
      " [130.82888952]\n",
      " [173.96138408]\n",
      " [150.12782663]\n",
      " [157.26898922]]\n"
     ]
    }
   ],
   "source": [
    " import pandas as pd # veriler için \n",
    "import numpy as np # büyük sayılar ve hesaplamalar için kullandığımız kütüphane \n",
    "import matplotlib.pyplot as plt # çizimler için\n",
    "veriler = pd.read_csv(\"veriler.csv\")\n",
    "#print(veriler)\n",
    "\n",
    "Yas = veriler.iloc[:,1:4].values\n",
    "\n",
    "ulke = veriler.iloc[:,0:1].values\n",
    "#print(ulke)\n",
    "from sklearn import preprocessing\n",
    "le = preprocessing.LabelEncoder()\n",
    "ulke[:,0] = le.fit_transform(veriler.iloc[:,0])\n",
    "#print(ulke)\n",
    "\n",
    "ohe = preprocessing.OneHotEncoder()\n",
    "ulke = ohe.fit_transform(ulke).toarray()\n",
    "#print(ulke)\n",
    "\n",
    "c = veriler.iloc[:,-1:].values\n",
    "\n",
    "c[:,-1] = le.fit_transform(veriler.iloc[:,-1])\n",
    "#print(c)\n",
    "\n",
    "c = ohe.fit_transform(c).toarray()\n",
    "#print(c)\n",
    "\n",
    "sonuc = pd.DataFrame(data = ulke, index = range(22), columns = [\"fr\", \"tr\",\"us\"])\n",
    "#print(sonuc)\n",
    "\n",
    "sonuc2 = pd.DataFrame(data= Yas, index = range(22), columns = [\"boy\", \"kilo\", \"yas\"])\n",
    "#print(sonuc2)\n",
    "\n",
    "cinsiyet = veriler.iloc[:, -1].values\n",
    "#print(cinsiyet)\n",
    "\n",
    "sonuc3 = pd.DataFrame(data = c[:,:1], index = range(22), columns = [\"cinsiyet\"])\n",
    "#print(sonuc3)\n",
    "\n",
    "#dataframeleri birleştirme\n",
    "\n",
    "s = pd.concat([sonuc,sonuc2], axis = 1)\n",
    "#print(s)\n",
    "\n",
    "s2 = pd.concat([s, sonuc3], axis = 1)\n",
    "#print(s2)\n",
    "\n",
    "\n",
    "from sklearn.model_selection import train_test_split\n",
    "\n",
    "x_train, x_test, y_train, y_text = train_test_split(s, sonuc3, test_size = 0.33, random_state = 0)\n",
    "\n",
    "from sklearn.linear_model import LinearRegression\n",
    "\n",
    "regressor = LinearRegression()\n",
    "\n",
    "regressor.fit(x_train, y_train)\n",
    "\n",
    "y_pred = regressor.predict(x_test)\n",
    "\n",
    "boy = s2.iloc[:,3:4].values\n",
    "print(boy)\n",
    "\n",
    "sol = s2.iloc[:,:3]\n",
    "sag = s2.iloc[:,4:]\n",
    "\n",
    "veri = pd.concat([sol, sag], axis = 1)\n",
    "\n",
    "\n",
    "x_train, x_test, y_train, y_text = train_test_split(veri, boy, test_size = 0.33, random_state = 0)\n",
    "\n",
    "r2 = LinearRegression()\n",
    "\n",
    "r2.fit(x_train, y_train)\n",
    "\n",
    "y_pred = r2.predict(x_test)\n"
   ]
  },
  {
   "cell_type": "code",
   "execution_count": null,
   "id": "77242da3",
   "metadata": {},
   "outputs": [],
   "source": []
  }
 ],
 "metadata": {
  "kernelspec": {
   "display_name": "Python 3 (ipykernel)",
   "language": "python",
   "name": "python3"
  },
  "language_info": {
   "codemirror_mode": {
    "name": "ipython",
    "version": 3
   },
   "file_extension": ".py",
   "mimetype": "text/x-python",
   "name": "python",
   "nbconvert_exporter": "python",
   "pygments_lexer": "ipython3",
   "version": "3.11.1"
  }
 },
 "nbformat": 4,
 "nbformat_minor": 5
}
