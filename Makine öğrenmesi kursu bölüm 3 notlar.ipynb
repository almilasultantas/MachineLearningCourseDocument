{
 "cells": [
  {
   "cell_type": "markdown",
   "id": "292cbe73",
   "metadata": {},
   "source": [
    "Multiple Linear Regression Çoklu Doğrusal Regresyon"
   ]
  },
  {
   "cell_type": "markdown",
   "id": "3fc11629",
   "metadata": {},
   "source": [
    "sonuç birden fazla değişkene bağlıysa çoklu doğrusal regresyon olmuş oluyor."
   ]
  },
  {
   "cell_type": "markdown",
   "id": "350802c2",
   "metadata": {},
   "source": [
    "kukla değişken tuzağı ( dummy variable ) değişkeni ifade eden başka bir değişken demektir \n",
    "örn: bir kolondan encoding yaparak iki kolon oluşturduk böylece üç kolonda aynı şeyi ifade eder hale geldi. her kolonun makine öğrenmesi için etkisi vardır bu durumda bu üö kolon dummy variable a sebep olur.\n",
    "encoding yaptığımı kolonu bırak yerine diğer iki kolonu bıraktığımızda da dummy variable a sebep verebilir dikkat edilmesi gerekiyor.\n"
   ]
  },
  {
   "cell_type": "markdown",
   "id": "9eb75d3d",
   "metadata": {},
   "source": [
    "p-value ( Probably value | olasılık değeri )"
   ]
  },
  {
   "cell_type": "markdown",
   "id": "7dc024b2",
   "metadata": {},
   "source": [
    "Değişken Seçimi \n",
    "    Farklı Yaklaşımlar\n",
    "        # Bütün değişkenleri dahil etmek\n",
    "        # Geriye doğru eleme ( backward elimination )\n",
    "        # ileri Seçim ( forward selection )\n",
    "        # iki yönlü eleme ( bidirectional elimination ) \n",
    "        # skor karşılaştırması ( score comparison ) "
   ]
  },
  {
   "cell_type": "code",
   "execution_count": 1,
   "id": "85c90dc1",
   "metadata": {},
   "outputs": [],
   "source": [
    " import pandas as pd # veriler için \n",
    "import numpy as np # büyük sayılar ve hesaplamalar için kullandığımız kütüphane \n",
    "import matplotlib.pyplot as plt # çizimler için\n",
    "veriler = pd.read_csv(\"veriler.csv\")\n",
    "#print(veriler)\n",
    "\n",
    "Yas = veriler.iloc[:,1:4].values\n",
    "\n",
    "ulke = veriler.iloc[:,0:1].values\n",
    "#print(ulke)\n",
    "from sklearn import preprocessing\n",
    "le = preprocessing.LabelEncoder()\n",
    "ulke[:,0] = le.fit_transform(veriler.iloc[:,0])\n",
    "#print(ulke)\n",
    "\n",
    "ohe = preprocessing.OneHotEncoder()\n",
    "ulke = ohe.fit_transform(ulke).toarray()\n",
    "#print(ulke)\n",
    "\n",
    "c = veriler.iloc[:,-1:].values\n",
    "\n",
    "c[:,-1] = le.fit_transform(veriler.iloc[:,-1])\n",
    "#print(c)\n",
    "\n",
    "c = ohe.fit_transform(c).toarray()\n",
    "#print(c)\n",
    "\n",
    "sonuc = pd.DataFrame(data = ulke, index = range(22), columns = [\"fr\", \"tr\",\"us\"])\n",
    "#print(sonuc)\n",
    "\n",
    "sonuc2 = pd.DataFrame(data= Yas, index = range(22), columns = [\"boy\", \"kilo\", \"yas\"])\n",
    "#print(sonuc2)\n",
    "\n",
    "cinsiyet = veriler.iloc[:, -1].values\n",
    "#print(cinsiyet)\n",
    "\n",
    "sonuc3 = pd.DataFrame(data = c[:,:1], index = range(22), columns = [\"cinsiyet\"])\n",
    "#print(sonuc3)\n",
    "\n",
    "#dataframeleri birleştirme\n",
    "\n",
    "s = pd.concat([sonuc,sonuc2], axis = 1)\n",
    "#print(s)\n",
    "\n",
    "s2 = pd.concat([s, sonuc3], axis = 1)\n",
    "#print(s2)\n",
    "\n",
    "\n",
    "from sklearn.model_selection import train_test_split\n",
    "\n",
    "x_train, x_test, y_train, y_text = train_test_split(s, sonuc3, test_size = 0.33, random_state = 0)\n",
    "\n",
    "from sklearn.linear_model import LinearRegression\n",
    "\n",
    "regressor = LinearRegression()\n",
    "\n",
    "regressor.fit(x_train, y_train)\n",
    "\n",
    "y_pred = regressor.predict(x_test)\n",
    "\n",
    "boy = s2.iloc[:,3:4].values\n",
    "#print(boy)\n",
    "\n",
    "sol = s2.iloc[:,:3]\n",
    "sag = s2.iloc[:,4:]\n",
    "\n",
    "veri = pd.concat([sol, sag], axis = 1)\n",
    "\n",
    "\n",
    "x_train, x_test, y_train, y_text = train_test_split(veri, boy, test_size = 0.33, random_state = 0)\n",
    "\n",
    "r2 = LinearRegression()\n",
    "\n",
    "r2.fit(x_train, y_train)\n",
    "\n",
    "y_pred = r2.predict(x_test)\n"
   ]
  },
  {
   "cell_type": "code",
   "execution_count": 3,
   "id": "77242da3",
   "metadata": {},
   "outputs": [
    {
     "name": "stdout",
     "output_type": "stream",
     "text": [
      "                            OLS Regression Results                            \n",
      "==============================================================================\n",
      "Dep. Variable:                      y   R-squared:                       0.885\n",
      "Model:                            OLS   Adj. R-squared:                  0.849\n",
      "Method:                 Least Squares   F-statistic:                     24.69\n",
      "Date:                Wed, 21 Dec 2022   Prob (F-statistic):           5.41e-07\n",
      "Time:                        15:18:52   Log-Likelihood:                -73.950\n",
      "No. Observations:                  22   AIC:                             159.9\n",
      "Df Residuals:                      16   BIC:                             166.4\n",
      "Df Model:                           5                                         \n",
      "Covariance Type:            nonrobust                                         \n",
      "==============================================================================\n",
      "                 coef    std err          t      P>|t|      [0.025      0.975]\n",
      "------------------------------------------------------------------------------\n",
      "x1           114.0688      8.145     14.005      0.000      96.802     131.335\n",
      "x2           108.3030      5.736     18.880      0.000      96.143     120.463\n",
      "x3           104.4714      9.195     11.361      0.000      84.978     123.964\n",
      "x4             0.9211      0.119      7.737      0.000       0.669       1.174\n",
      "x5             0.0814      0.221      0.369      0.717      -0.386       0.549\n",
      "x6           -10.5980      5.052     -2.098      0.052     -21.308       0.112\n",
      "==============================================================================\n",
      "Omnibus:                        1.031   Durbin-Watson:                   2.759\n",
      "Prob(Omnibus):                  0.597   Jarque-Bera (JB):                0.624\n",
      "Skew:                           0.407   Prob(JB):                        0.732\n",
      "Kurtosis:                       2.863   Cond. No.                         524.\n",
      "==============================================================================\n",
      "\n",
      "Notes:\n",
      "[1] Standard Errors assume that the covariance matrix of the errors is correctly specified.\n"
     ]
    }
   ],
   "source": [
    "import statsmodels.api as sm\n",
    "#verilere 1'lerden oluşan bir colon ekliyoruz ki sabit bir colonumuz olsun bu ısayede elemeleri gerçekleştireceğiz\n",
    "\n",
    "X = np.append( arr = np.ones((22,1)).astype(int), values = veri, axis = 1)\n",
    "#print (X)\n",
    "\n",
    "X_l = veri.iloc[:,[0,1,2,3,4,5]].values\n",
    "X_l = np.array(X_l,dtype = float)\n",
    "model = sm.OLS(boy,X_l).fit()\n",
    "print(model.summary())"
   ]
  },
  {
   "cell_type": "code",
   "execution_count": 4,
   "id": "bc840c6a",
   "metadata": {},
   "outputs": [
    {
     "name": "stdout",
     "output_type": "stream",
     "text": [
      "                            OLS Regression Results                            \n",
      "==============================================================================\n",
      "Dep. Variable:                      y   R-squared:                       0.884\n",
      "Model:                            OLS   Adj. R-squared:                  0.857\n",
      "Method:                 Least Squares   F-statistic:                     32.47\n",
      "Date:                Wed, 21 Dec 2022   Prob (F-statistic):           9.32e-08\n",
      "Time:                        15:20:28   Log-Likelihood:                -74.043\n",
      "No. Observations:                  22   AIC:                             158.1\n",
      "Df Residuals:                      17   BIC:                             163.5\n",
      "Df Model:                           4                                         \n",
      "Covariance Type:            nonrobust                                         \n",
      "==============================================================================\n",
      "                 coef    std err          t      P>|t|      [0.025      0.975]\n",
      "------------------------------------------------------------------------------\n",
      "x1           115.6583      6.734     17.175      0.000     101.451     129.866\n",
      "x2           109.0786      5.200     20.978      0.000      98.108     120.049\n",
      "x3           106.5445      7.090     15.026      0.000      91.585     121.504\n",
      "x4             0.9405      0.104      9.029      0.000       0.721       1.160\n",
      "x5           -11.1093      4.733     -2.347      0.031     -21.096      -1.123\n",
      "==============================================================================\n",
      "Omnibus:                        0.871   Durbin-Watson:                   2.719\n",
      "Prob(Omnibus):                  0.647   Jarque-Bera (JB):                0.459\n",
      "Skew:                           0.351   Prob(JB):                        0.795\n",
      "Kurtosis:                       2.910   Cond. No.                         397.\n",
      "==============================================================================\n",
      "\n",
      "Notes:\n",
      "[1] Standard Errors assume that the covariance matrix of the errors is correctly specified.\n"
     ]
    }
   ],
   "source": [
    "X_l = veri.iloc[:,[0,1,2,3,5]].values\n",
    "X_l = np.array(X_l,dtype = float)\n",
    "model = sm.OLS(boy,X_l).fit()\n",
    "print(model.summary())"
   ]
  },
  {
   "cell_type": "markdown",
   "id": "1af74c02",
   "metadata": {},
   "source": [
    "yukarıda backward elimination yaptık\n",
    "OLS raporu oluşturduk"
   ]
  }
 ],
 "metadata": {
  "kernelspec": {
   "display_name": "Python 3 (ipykernel)",
   "language": "python",
   "name": "python3"
  },
  "language_info": {
   "codemirror_mode": {
    "name": "ipython",
    "version": 3
   },
   "file_extension": ".py",
   "mimetype": "text/x-python",
   "name": "python",
   "nbconvert_exporter": "python",
   "pygments_lexer": "ipython3",
   "version": "3.11.1"
  }
 },
 "nbformat": 4,
 "nbformat_minor": 5
}
