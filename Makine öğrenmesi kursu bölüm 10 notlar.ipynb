{
 "cells": [
  {
   "cell_type": "markdown",
   "id": "b5ad254d",
   "metadata": {},
   "source": [
    "Association rule mining \\ Learning \\ \n",
    "Birliktelik kural çıkarımı \\ öğrenimi\n",
    "\n",
    "\n",
    "ARM \\ ARL \n",
    "correlation( ilişkisellik ) vs causality ( nedensellik )\n"
   ]
  },
  {
   "cell_type": "markdown",
   "id": "35c82d8d",
   "metadata": {},
   "source": [
    "Apriori Algoritması"
   ]
  },
  {
   "cell_type": "code",
   "execution_count": 1,
   "id": "5c54eedc",
   "metadata": {},
   "outputs": [],
   "source": [
    "import numpy as np\n",
    "import pandas as pd\n",
    "import matplotlib.pyplot as plt\n",
    "\n",
    "veriler = pd.read_csv(\"sepet.csv\", header = None)\n",
    "\n",
    "\n",
    "t = []\n",
    "for i in range (0,7501):\n",
    "    t.append([str(veriler.values[i,j])for j in range(0,20)])\n",
    "    \n",
    "    \n",
    "    \n"
   ]
  },
  {
   "cell_type": "code",
   "execution_count": 2,
   "id": "803b66b2",
   "metadata": {},
   "outputs": [],
   "source": [
    "from apyori import apriori\n",
    "kurallar = apriori(t, min_support = 0.01, min_confidence = 0.2, min_lift = 3, min_length = 2)"
   ]
  },
  {
   "cell_type": "code",
   "execution_count": 3,
   "id": "b16fb20d",
   "metadata": {},
   "outputs": [
    {
     "name": "stdout",
     "output_type": "stream",
     "text": [
      "[RelationRecord(items=frozenset({'ground beef', 'herb & pepper'}), support=0.015997866951073192, ordered_statistics=[OrderedStatistic(items_base=frozenset({'herb & pepper'}), items_add=frozenset({'ground beef'}), confidence=0.3234501347708895, lift=3.2919938411349285)]), RelationRecord(items=frozenset({'ground beef', 'nan', 'herb & pepper'}), support=0.015997866951073192, ordered_statistics=[OrderedStatistic(items_base=frozenset({'nan', 'herb & pepper'}), items_add=frozenset({'ground beef'}), confidence=0.3234501347708895, lift=3.2919938411349285)])]\n"
     ]
    }
   ],
   "source": [
    "print(list(kurallar))"
   ]
  },
  {
   "cell_type": "markdown",
   "id": "6918963d",
   "metadata": {},
   "source": [
    "Eclat Algoritması \n",
    "apriori breadth first search (aynı seviye bitene kadar bir alt seviyeye geçemez) giderken eclat depth first search gidiyor\n"
   ]
  },
  {
   "cell_type": "markdown",
   "id": "d2d74271",
   "metadata": {},
   "source": []
  }
 ],
 "metadata": {
  "kernelspec": {
   "display_name": "Python 3 (ipykernel)",
   "language": "python",
   "name": "python3"
  },
  "language_info": {
   "codemirror_mode": {
    "name": "ipython",
    "version": 3
   },
   "file_extension": ".py",
   "mimetype": "text/x-python",
   "name": "python",
   "nbconvert_exporter": "python",
   "pygments_lexer": "ipython3",
   "version": "3.11.1"
  }
 },
 "nbformat": 4,
 "nbformat_minor": 5
}
