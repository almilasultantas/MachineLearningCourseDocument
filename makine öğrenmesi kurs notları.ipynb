{
 "cells": [
  {
   "cell_type": "markdown",
   "id": "119393c1",
   "metadata": {},
   "source": [
    "python ile makine öğrenmesi 1. uygulamalı ders"
   ]
  },
  {
   "cell_type": "code",
   "execution_count": 1,
   "id": "8b704056",
   "metadata": {},
   "outputs": [],
   "source": [
    "import pandas as pd # veriler için \n",
    "import numpy as np # büyük sayılar ve hesaplamalar için kullandığımız kütüphane \n",
    "import matplotlib.pyplot as plt # çizimler için"
   ]
  },
  {
   "cell_type": "markdown",
   "id": "f84b51d4",
   "metadata": {},
   "source": [
    "python ile makine öğrenmesi 2. uygulamalı ders"
   ]
  },
  {
   "cell_type": "code",
   "execution_count": 2,
   "id": "22175284",
   "metadata": {},
   "outputs": [],
   "source": [
    "veriler = pd.read_csv(\"veriler.csv\")"
   ]
  },
  {
   "cell_type": "code",
   "execution_count": 3,
   "id": "b7c9cbf0",
   "metadata": {},
   "outputs": [],
   "source": [
    "#print(veriler)\n",
    "boy = veriler [[\"boy\"]]\n",
    "#print(boy)\n",
    "boykilo= veriler[[\"boy\", \"kilo\"]]\n",
    "#print(boykilo)"
   ]
  },
  {
   "cell_type": "markdown",
   "id": "ca7bd805",
   "metadata": {},
   "source": [
    "python ile makine öğrenmesi 3. uygulamalı ders"
   ]
  },
  {
   "cell_type": "code",
   "execution_count": 4,
   "id": "6e99de4d",
   "metadata": {},
   "outputs": [
    {
     "name": "stdout",
     "output_type": "stream",
     "text": [
      "180\n",
      "100\n"
     ]
    }
   ],
   "source": [
    "class insan:\n",
    "    boy=180\n",
    "    def kosmak(self,b):\n",
    "        return b+10\n",
    "\n",
    "ali=insan()\n",
    "print(ali.boy)\n",
    "print(ali.kosmak(90))\n",
    "l=[1,2,3] # liste\n"
   ]
  },
  {
   "cell_type": "markdown",
   "id": "50e04d89",
   "metadata": {},
   "source": [
    "python ile makine öğrenmesi 4. uygulamalı ders"
   ]
  },
  {
   "cell_type": "markdown",
   "id": "5a691b62",
   "metadata": {},
   "source": [
    "eksik verilerde çözüm yöntemlerinden biri kolon eğer sayısal verilerden oluşuyorsa o kolonun ortalamasnının alınıp boş olan yerlere yazdırılmasıdır. "
   ]
  },
  {
   "cell_type": "code",
   "execution_count": 5,
   "id": "acbc7936",
   "metadata": {},
   "outputs": [],
   "source": [
    "eksikveriler = pd.read_csv(\"eksikveriler.csv\")\n",
    "#print(eksikveriler)\n",
    "from sklearn.impute import SimpleImputer\n",
    "imputer = SimpleImputer(missing_values = np.nan, strategy = \"mean\")\n",
    "yas= eksikveriler.iloc[:,1:4].values\n",
    "#print(yas)\n",
    "imputer= imputer.fit(yas[:,1:4])\n",
    "yas[:,1:4] = imputer.transform(yas[:,1:4])\n",
    "#print(yas)\n"
   ]
  },
  {
   "attachments": {},
   "cell_type": "markdown",
   "id": "43676268",
   "metadata": {},
   "source": [
    "python ile makine öğrenmesi 4. uygulamalı ders"
   ]
  },
  {
   "cell_type": "markdown",
   "id": "364e40f2",
   "metadata": {},
   "source": [
    "bir kolonda farklı string etiketler varsa örn: TR FR US gibi bunlarda tek kolon kullanmak yerine çoklu kolona geçilir ver TR FR US için ayrı kolonlar oluşturulur ve 1|0 kullanılarak etiketlenmiş olur. (Şekil2 => Şekil1)\n",
    "        \n",
    "        TR FR US\n",
    "     TR 1   0  0    TR\n",
    "     TR 1   0  0    TR\n",
    "     FR 0   1  0    FR\n",
    "     US 0   0  1    US\n",
    "     TR 1   0  0    TR\n",
    "     US 0   0  1    US\n",
    "       Şekil1     Şekil2"
   ]
  },
  {
   "cell_type": "code",
   "execution_count": 12,
   "id": "79cc60ab",
   "metadata": {},
   "outputs": [],
   "source": [
    "ulke = veriler.iloc[:,0:1].values\n",
    "#print(ulke)\n",
    "from sklearn import preprocessing\n",
    "le = preprocessing.LabelEncoder()\n",
    "ulke[:,0] = le.fit_transform(veriler.iloc[:,0])\n",
    "#print(ulke)\n",
    "ohe = preprocessing.OneHotEncoder()\n",
    "ulke = ohe.fit_transform(ulke).toarray()\n",
    "#print(ulke)\n"
   ]
  },
  {
   "cell_type": "code",
   "execution_count": null,
   "id": "65f39479",
   "metadata": {},
   "outputs": [],
   "source": []
  }
 ],
 "metadata": {
  "kernelspec": {
   "display_name": "Python 3 (ipykernel)",
   "language": "python",
   "name": "python3"
  },
  "language_info": {
   "codemirror_mode": {
    "name": "ipython",
    "version": 3
   },
   "file_extension": ".py",
   "mimetype": "text/x-python",
   "name": "python",
   "nbconvert_exporter": "python",
   "pygments_lexer": "ipython3",
   "version": "3.11.1"
  }
 },
 "nbformat": 4,
 "nbformat_minor": 5
}
